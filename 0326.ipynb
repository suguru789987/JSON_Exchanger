{
 "cells": [
  {
   "cell_type": "code",
   "execution_count": 22,
   "metadata": {},
   "outputs": [],
   "source": [
    "from tkinter import *\n",
    "from tkinter import ttk\n",
    "import tkinter as tk\n",
    "import numpy as np\n",
    "import json\n",
    "import pandas as pd\n",
    "from pandas.io.json import json_normalize\n",
    "import tkinter\n",
    "from tkinter import filedialog\n",
    "from tkinter import messagebox\n",
    "import os\n",
    "import urllib.request"
   ]
  },
  {
   "cell_type": "code",
   "execution_count": 23,
   "metadata": {},
   "outputs": [],
   "source": [
    "def click_input_button():\n",
    "    value=filepath_entry.get()\n",
    "    conn = urllib.request.urlopen(value)\n",
    "    input_json= json.loads(conn.read().decode('utf-8'))"
   ]
  },
  {
   "cell_type": "code",
   "execution_count": 24,
   "metadata": {},
   "outputs": [],
   "source": [
    "def click_export_button():\n",
    "    f=input_json.get()\n",
    "    output_df = json_normalize(input_json,columns=['user_name','comment'])\n",
    "    text_Box.insert(tk.END,output_df)\n",
    "    "
   ]
  },
  {
   "cell_type": "code",
   "execution_count": 25,
   "metadata": {},
   "outputs": [
    {
     "data": {
      "text/plain": [
       "''"
      ]
     },
     "execution_count": 25,
     "metadata": {},
     "output_type": "execute_result"
    }
   ],
   "source": [
    " # ウィンドウを作成\n",
    "root = tk.Tk()\n",
    "root.title('json_exchanger') # アプリの名前\n",
    "root.geometry('500x500') # アプリの画面サイズ"
   ]
  },
  {
   "cell_type": "code",
   "execution_count": 26,
   "metadata": {},
   "outputs": [],
   "source": [
    " # Frame1の作成\n",
    "frame1 = ttk.Frame(root, padding=10)\n",
    "frame1.grid()"
   ]
  },
  {
   "cell_type": "code",
   "execution_count": 27,
   "metadata": {},
   "outputs": [],
   "source": [
    " # 「ファイル」ラベルの作成\n",
    "s = StringVar()\n",
    "s.set('ファイル名：')\n",
    "label1 = ttk.Label(frame1, textvariable=s)\n",
    "label1.grid(row=0, column=0)"
   ]
  },
  {
   "cell_type": "code",
   "execution_count": 28,
   "metadata": {},
   "outputs": [],
   "source": [
    "  # ファイルを表示するテキストボックスの作成\n",
    "file_path = StringVar()\n",
    "filepath_entry = ttk.Entry(frame1, textvariable=file_path, width=50)\n",
    "filepath_entry.grid(row=0, column=1)"
   ]
  },
  {
   "cell_type": "code",
   "execution_count": 29,
   "metadata": {},
   "outputs": [],
   "source": [
    " # 入力ボタンの作成\n",
    "input_button = ttk.Button(frame1, text=u'入力', command=click_input_button)\n",
    "input_button.grid(row=0, column=2)"
   ]
  },
  {
   "cell_type": "code",
   "execution_count": 30,
   "metadata": {},
   "outputs": [],
   "source": [
    " # Frame2の作成\n",
    "frame2 = ttk.Frame(root, padding=10)\n",
    "frame2.grid()\n"
   ]
  },
  {
   "cell_type": "code",
   "execution_count": 31,
   "metadata": {},
   "outputs": [],
   "source": [
    " # テキスト出力ボタンの作成\n",
    "export_button = ttk.Button(frame2, text='出力', command=click_export_button, width=20)\n",
    "export_button.grid(row=0, column=0)"
   ]
  },
  {
   "cell_type": "code",
   "execution_count": 32,
   "metadata": {},
   "outputs": [],
   "source": [
    " # テキスト出力ボックスの作成\n",
    "textboxname = StringVar()\n",
    "textboxname.set('\\n\\n出力内容 ')\n",
    "label3 = ttk.Label(frame2, textvariable=textboxname)\n",
    "label3.grid(row=1, column=0)\n",
    "textBox = Text(frame2, width=50)\n",
    "textBox.grid(row=2, column=0)"
   ]
  },
  {
   "cell_type": "code",
   "execution_count": null,
   "metadata": {},
   "outputs": [],
   "source": [
    " # ウィンドウを動かす\n",
    "root.mainloop()"
   ]
  },
  {
   "cell_type": "code",
   "execution_count": null,
   "metadata": {},
   "outputs": [],
   "source": []
  },
  {
   "cell_type": "code",
   "execution_count": null,
   "metadata": {},
   "outputs": [],
   "source": []
  },
  {
   "cell_type": "code",
   "execution_count": null,
   "metadata": {},
   "outputs": [],
   "source": []
  }
 ],
 "metadata": {
  "kernelspec": {
   "display_name": "Python 3",
   "language": "python",
   "name": "python3"
  },
  "language_info": {
   "codemirror_mode": {
    "name": "ipython",
    "version": 3
   },
   "file_extension": ".py",
   "mimetype": "text/x-python",
   "name": "python",
   "nbconvert_exporter": "python",
   "pygments_lexer": "ipython3",
   "version": "3.7.3"
  }
 },
 "nbformat": 4,
 "nbformat_minor": 4
}
